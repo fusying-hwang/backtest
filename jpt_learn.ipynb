{
 "cells": [
  {
   "cell_type": "code",
   "execution_count": 10,
   "metadata": {},
   "outputs": [
    {
     "name": "stdout",
     "output_type": "stream",
     "text": [
      "(10, 8)\n",
      "[[ 0  1  2  3  4  5  6  7]\n",
      " [ 8  9 10 11 12 13 14 15]\n",
      " [16 17 18 19 20 21 22 23]\n",
      " [24 25 26 27 28 29 30 31]\n",
      " [32 33 34 35 36 37 38 39]\n",
      " [40 41 42 43 44 45 46 47]\n",
      " [48 49 50 51 52 53 54 55]\n",
      " [56 57 58 59 60 61 62 63]\n",
      " [64 65 66 67 68 69 70 71]\n",
      " [72 73 74 75 76 77 78 79]]\n",
      "[[ 8  9 10 11 12 13 14 15]\n",
      " [16 17 18 19 20 21 22 23]]\n",
      "[[ 8  9 10]\n",
      " [16 17 18]]\n",
      "[[ 8]\n",
      " [16]]\n",
      "[ 8 16]\n",
      "[[0]\n",
      " [1]\n",
      " [2]\n",
      " [3]]\n",
      "[0 1 2 3]\n",
      "0\n"
     ]
    }
   ],
   "source": [
    "import numpy as np\n",
    "import pandas as pd\n",
    "\n",
    "np.random.seed(100)\n",
    "r = np.arange(80)\n",
    "r =r.reshape((8, 10))\n",
    "r = r.reshape((-1, 1))\n",
    "r = r.reshape((-1, 8))\n",
    "\n",
    "print(r.shape)\n",
    "\n",
    "print(r)\n",
    "\n",
    "print(r[1:3])\n",
    "print(r[1:3, 0:3])\n",
    "\n",
    "print(r[1: 3, 0: 1])\n",
    "print(r[1:3, 0])\n",
    "\n",
    "r = r.reshape(-1, 1)\n",
    "print(r[0: 4])\n",
    "print(r[0: 4, 0])\n",
    "print(r[0, 0])\n"
   ]
  },
  {
   "cell_type": "code",
   "execution_count": 5,
   "metadata": {},
   "outputs": [
    {
     "name": "stdout",
     "output_type": "stream",
     "text": [
      "<module 'tensorflow._api.v2.version' from '/Users/chenchen/opt/anaconda3/envs/py37_vnpy/lib/python3.7/site-packages/tensorflow/_api/v2/version/__init__.py'>\n"
     ]
    }
   ],
   "source": [
    "import tensorflow as tf\n",
    "print(tf.version)"
   ]
  },
  {
   "cell_type": "markdown",
   "metadata": {},
   "source": [
    "## Tensors\n",
    "A tensor is a generalization of vectors and matrices to potentially higher dimensions. Internally, Tensorflow represents a tensors as n-dimensional arrays of base datatypes. Each tensor represents a partialy defined computation that will eventually produce a value."
   ]
  },
  {
   "cell_type": "code",
   "execution_count": 9,
   "metadata": {},
   "outputs": [
    {
     "data": {
      "text/plain": [
       "<tf.Tensor: shape=(), dtype=int32, numpy=2>"
      ]
     },
     "execution_count": 9,
     "metadata": {},
     "output_type": "execute_result"
    }
   ],
   "source": [
    "# scalar value, rank 0\n",
    "string = tf.Variable(\"this is a string\", tf.string)\n",
    "number = tf.Variable(324, tf.int16)\n",
    "floating = tf.Variable(3.14, tf.float64)\n",
    "\n",
    "rank2_tensor = tf.Variable([[\"test\", \"ok\"], [\"test\", \"yes\"]], tf.string)\n",
    "tf.rank(rank2_tensor)"
   ]
  },
  {
   "cell_type": "markdown",
   "metadata": {},
   "source": []
  }
 ],
 "metadata": {
  "kernelspec": {
   "display_name": "Python 3.7.13 ('py37_vnpy')",
   "language": "python",
   "name": "python3"
  },
  "language_info": {
   "codemirror_mode": {
    "name": "ipython",
    "version": 3
   },
   "file_extension": ".py",
   "mimetype": "text/x-python",
   "name": "python",
   "nbconvert_exporter": "python",
   "pygments_lexer": "ipython3",
   "version": "3.7.13"
  },
  "orig_nbformat": 4,
  "vscode": {
   "interpreter": {
    "hash": "aba7986fadd20fda8637e8ea5870161e5c73789f03e96b3ff06d86921c0a4a03"
   }
  }
 },
 "nbformat": 4,
 "nbformat_minor": 2
}
